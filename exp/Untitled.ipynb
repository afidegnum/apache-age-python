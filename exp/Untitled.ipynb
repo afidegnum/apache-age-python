{
 "cells": [
  {
   "cell_type": "code",
   "execution_count": 1,
   "id": "68170e0f-a15f-4b4a-bcf0-d10275a5acf0",
   "metadata": {},
   "outputs": [],
   "source": [
    "\n",
    "from psycopg2 import extensions as _ext\n",
    "import os\n",
    "import sys\n",
    "\n",
    "import agensgraph\n",
    "from agensgraph._graphid import (\n",
    "    GraphId, cast_graphid as _cast_graphid, adapt_graphid as _adapt_graphid)\n",
    "from agensgraph._vertex import Vertex, cast_vertex as _cast_vertex\n",
    "from agensgraph._edge import Edge, cast_edge as _cast_edge\n",
    "from agensgraph._graphpath import Path, cast_graphpath as _cast_graphpath\n",
    "from agensgraph._property import Property\n",
    "\n",
    "_GRAPHID_OID = 7002\n",
    "_VERTEX_OID = 7012\n",
    "_EDGE_OID = 7022\n",
    "_GRAPHPATH_OID = 7032\n",
    "\n",
    "GRAPHID = _ext.new_type((_GRAPHID_OID,), 'GRAPHID', _cast_graphid)\n",
    "_ext.register_type(GRAPHID)\n",
    "_ext.register_adapter(GraphId, _adapt_graphid)\n",
    "\n",
    "VERTEX = _ext.new_type((_VERTEX_OID,), 'VERTEX', _cast_vertex)\n",
    "_ext.register_type(VERTEX)\n",
    "\n",
    "EDGE = _ext.new_type((_EDGE_OID,), 'EDGE', _cast_edge)\n",
    "_ext.register_type(EDGE)\n",
    "\n",
    "PATH = _ext.new_type((_GRAPHPATH_OID,), 'PATH', _cast_graphpath)\n",
    "_ext.register_type(PATH)\n",
    "\n",
    "__all__ = ['GraphId', 'Vertex', 'Edge', 'Path', 'Property',\n",
    "           'GRAPHID', 'VERTEX', 'EDGE', 'PATH']\n"
   ]
  },
  {
   "cell_type": "code",
   "execution_count": 3,
   "id": "045c22e3-9987-446e-91c5-f91a1020e802",
   "metadata": {},
   "outputs": [
    {
     "name": "stdout",
     "output_type": "stream",
     "text": [
      "e[5.7][7.3,7.9]{\"s\": \"\", \"i\": 0, \"b\": false, \"a\": [], \"o\": {}}\n"
     ]
    }
   ],
   "source": [
    "\n",
    "from agensgraph._edge import Edge, cast_edge\n",
    "\n",
    "out = 'e[5.7][7.3,7.9]{\"s\": \"\", \"i\": 0, \"b\": false, \"a\": [], \"o\": {}}'\n",
    "e = cast_edge(out, None)\n",
    "print(e)"
   ]
  },
  {
   "cell_type": "code",
   "execution_count": null,
   "id": "24aa270f-bbd5-4947-8c86-3ebdd3023a00",
   "metadata": {},
   "outputs": [],
   "source": []
  }
 ],
 "metadata": {
  "kernelspec": {
   "display_name": "Python 3",
   "language": "python",
   "name": "python3"
  },
  "language_info": {
   "codemirror_mode": {
    "name": "ipython",
    "version": 3
   },
   "file_extension": ".py",
   "mimetype": "text/x-python",
   "name": "python",
   "nbconvert_exporter": "python",
   "pygments_lexer": "ipython3",
   "version": "3.9.2"
  }
 },
 "nbformat": 4,
 "nbformat_minor": 5
}
