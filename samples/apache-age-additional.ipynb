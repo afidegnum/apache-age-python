{
 "cells": [
  {
   "cell_type": "markdown",
   "id": "eac6d4f3-4930-4aa8-9d8e-40a66c459bd8",
   "metadata": {},
   "source": [
    "# Additional Usage with psycopg2\n",
    "\n",
    "### Imports\n",
    "```\n",
    "import psycopg2\n",
    "import age\n",
    "```\n",
    "### Connect to PostgreSQL(with AGE extention)"
   ]
  },
  {
   "cell_type": "code",
   "execution_count": 1,
   "id": "56a63116-5f0b-4cb5-ab8e-dbad78555410",
   "metadata": {},
   "outputs": [],
   "source": [
    "GRAPH_NAME = \"test_graph4\""
   ]
  },
  {
   "cell_type": "code",
   "execution_count": 2,
   "id": "5ed85f37-ff93-4822-bb96-e1851db407ac",
   "metadata": {},
   "outputs": [],
   "source": [
    "import psycopg2\n",
    "import age\n",
    "\n",
    "# Connect to PostgresDB with AGE\n",
    "conn = psycopg2.connect(host=\"172.17.0.3\", port=\"5432\", dbname=\"postgres\", user=\"postgres\", password=\"agens\")\n",
    "cursor = conn.cursor()\n",
    "\n",
    "# load AGE extention\n",
    "cursor.execute(\"LOAD 'age';\")\n",
    "cursor.execute(\"SET search_path = ag_catalog, '$user', public;\")\n",
    "\n",
    "# Check if age_graph named GRAPH_NAME exists\n",
    "cursor.execute(\"SELECT count(*) FROM ag_graph WHERE name=%s\", (GRAPH_NAME,))\n",
    "\n",
    "if cursor.fetchone()[0] == 0 :\n",
    "# if age_graph named GRAPH_NAME, create that\n",
    "    cursor.execute(\"SELECT create_graph(%s);\", (GRAPH_NAME,))\n"
   ]
  },
  {
   "cell_type": "markdown",
   "id": "342d4298-0867-4cc8-89ee-28f8e442b90c",
   "metadata": {},
   "source": [
    "### Create & Query Vertices"
   ]
  },
  {
   "cell_type": "code",
   "execution_count": 3,
   "id": "f1d1e91a-8ebc-491b-a75a-13310e074481",
   "metadata": {},
   "outputs": [
    {
     "name": "stdout",
     "output_type": "stream",
     "text": [
      "---[Parse & print vertices row by row]---\n",
      "844424930131969 Person {'name': 'Joe'}\n",
      "844424930131970 Person {'name': 'Smith'}\n",
      "844424930131971 Person {'name': 'Jack'}\n",
      "844424930131972 Person {'name': 'Andy', 'title': 'Developer'}\n",
      "844424930131973 Person {'name': 'Tom', 'title': 'Developer'}\n",
      "---[Parse all vertices in result set]---\n",
      "Count of queried vertices: 1\n",
      "---[Print vertices in Graph object]---\n",
      "844424930131972 Person {'name': 'Andy', 'title': 'Developer'}\n"
     ]
    }
   ],
   "source": [
    "# Create Vertices\n",
    "age.execCypher(cursor, GRAPH_NAME, \"CREATE (n:Person {name: 'Joe'})\")\n",
    "age.execCypher(cursor, GRAPH_NAME, \"CREATE (n:Person {name: 'Smith'})\")\n",
    "age.execCypher(cursor, GRAPH_NAME, \"CREATE (n:Person {name: %s})\", ('Jack',))\n",
    "age.execCypher(cursor, GRAPH_NAME, \"CREATE (n:Person {name: 'Andy', title: 'Developer'})\")\n",
    "age.execCypher(cursor, GRAPH_NAME, \"CREATE (n:Person {name: %s, title: %s})\", ('Tom','Developer',))\n",
    "conn.commit()\n",
    "\n",
    "# Query Vertices\n",
    "age.queryCypher(cursor, GRAPH_NAME, \"MATCH (n:Person) RETURN n\")\n",
    "\n",
    "# parse each row in cursor\n",
    "print(\"---[Parse & print vertices row by row]---\")\n",
    "for row in age.getRows(cursor):\n",
    "    print(row.id, row.label, row.properties)\n",
    "\n",
    "    \n",
    "# Query Vertices with parameters\n",
    "age.queryCypher(cursor, GRAPH_NAME, \"MATCH (n:Person {name:%s}) RETURN n\", (\"Andy\",))\n",
    "\n",
    "# Parse full data in cursor\n",
    "print(\"---[Parse all vertices in result set]---\")\n",
    "graph = age.buildGraph(cursor)\n",
    "\n",
    "print(\"Count of queried vertices:\", graph.size())\n",
    "\n",
    "print(\"---[Print vertices in Graph object]---\")\n",
    "for row in graph:\n",
    "    print(row.id, row.label, row.properties)\n",
    "    "
   ]
  },
  {
   "cell_type": "markdown",
   "id": "d055afd9-529b-46ed-999b-f8109bc35ece",
   "metadata": {},
   "source": [
    "### Create & Query Edges"
   ]
  },
  {
   "cell_type": "code",
   "execution_count": 4,
   "id": "218330c9-041a-4749-bf88-92e415cac866",
   "metadata": {},
   "outputs": [
    {
     "name": "stdout",
     "output_type": "stream",
     "text": [
      "-- [Query paths] --------\n",
      "---[Parse & print paths row by row]---\n",
      "Person Smith - workWith 3 - Person Joe\n",
      "Person Jack - workWith 5 - Person Joe\n",
      "Person Joe - workWith 3 - Person Smith\n",
      "Person Joe - workWith 5 - Person Jack\n",
      "Person Andy - workWith 5 - Person Jack\n",
      "Person Jack - workWith 5 - Person Andy\n",
      "Person Tom - workWith 1 - Person Andy\n",
      "Person Andy - workWith 1 - Person Tom\n",
      "-- [Query & Print paths ] --------\n",
      "---[Parse & print paths row by row]---\n",
      "[{label:Person, id:844424930131970, properties:{name: Smith,}}::VERTEX,{label:workWith, id:1125899906842625, properties:{weight: 3,}, start_id:844424930131969, end_id:844424930131970}::EDGE,{label:Person, id:844424930131969, properties:{name: Joe,}}::VERTEX]::PATH\n",
      "[{label:Person, id:844424930131971, properties:{name: Jack,}}::VERTEX,{label:workWith, id:1125899906842628, properties:{weight: 5,}, start_id:844424930131969, end_id:844424930131971}::EDGE,{label:Person, id:844424930131969, properties:{name: Joe,}}::VERTEX]::PATH\n",
      "[{label:Person, id:844424930131969, properties:{name: Joe,}}::VERTEX,{label:workWith, id:1125899906842625, properties:{weight: 3,}, start_id:844424930131969, end_id:844424930131970}::EDGE,{label:Person, id:844424930131970, properties:{name: Smith,}}::VERTEX]::PATH\n",
      "[{label:Person, id:844424930131969, properties:{name: Joe,}}::VERTEX,{label:workWith, id:1125899906842628, properties:{weight: 5,}, start_id:844424930131969, end_id:844424930131971}::EDGE,{label:Person, id:844424930131971, properties:{name: Jack,}}::VERTEX]::PATH\n",
      "[{label:Person, id:844424930131972, properties:{name: Andy,title: Developer,}}::VERTEX,{label:workWith, id:1125899906842627, properties:{weight: 5,}, start_id:844424930131971, end_id:844424930131972}::EDGE,{label:Person, id:844424930131971, properties:{name: Jack,}}::VERTEX]::PATH\n",
      "[{label:Person, id:844424930131971, properties:{name: Jack,}}::VERTEX,{label:workWith, id:1125899906842627, properties:{weight: 5,}, start_id:844424930131971, end_id:844424930131972}::EDGE,{label:Person, id:844424930131972, properties:{name: Andy,title: Developer,}}::VERTEX]::PATH\n",
      "[{label:Person, id:844424930131973, properties:{name: Tom,title: Developer,}}::VERTEX,{label:workWith, id:1125899906842626, properties:{weight: 1,}, start_id:844424930131972, end_id:844424930131973}::EDGE,{label:Person, id:844424930131972, properties:{name: Andy,title: Developer,}}::VERTEX]::PATH\n",
      "[{label:Person, id:844424930131972, properties:{name: Andy,title: Developer,}}::VERTEX,{label:workWith, id:1125899906842626, properties:{weight: 1,}, start_id:844424930131972, end_id:844424930131973}::EDGE,{label:Person, id:844424930131973, properties:{name: Tom,title: Developer,}}::VERTEX]::PATH\n"
     ]
    }
   ],
   "source": [
    "# Create Edges\n",
    "age.execCypher(cursor, GRAPH_NAME, \"MATCH (a:Person), (b:Person) WHERE a.name = 'Joe' AND b.name = 'Smith' CREATE (a)-[r:workWith {weight: 3}]->(b)\")\n",
    "age.execCypher(cursor, GRAPH_NAME, \"MATCH (a:Person), (b:Person) WHERE  a.name = 'Andy' AND b.name = 'Tom' CREATE (a)-[r:workWith {weight: 1}]->(b)\")\n",
    "age.execCypher(cursor, GRAPH_NAME, \"MATCH (a:Person {name: 'Jack'}), (b:Person {name: 'Andy'}) CREATE (a)-[r:workWith {weight: 5}]->(b)\")\n",
    "age.execCypher(cursor, GRAPH_NAME, \"MATCH (a:Person {name: 'Joe'}), (b:Person {name: 'Jack'}) CREATE (a)-[r:workWith {weight: 5}]->(b)\")\n",
    "conn.commit()\n",
    "\n",
    "print(\"-- [Query paths] --------\")\n",
    "age.queryCypher(cursor, GRAPH_NAME, \"MATCH p=()-[:workWith]-() RETURN p\")\n",
    "\n",
    "print(\"---[Parse & print paths row by row]---\")\n",
    "for path in age.getRows(cursor):\n",
    "    if len(path) == 3:\n",
    "        print(path[0].label, path[0][\"name\"] , \"-\",  path[1].label, path[1][\"weight\"] , \"-\", path[2].label, path[2][\"name\"])\n",
    "\n",
    "print(\"-- [Query & Print paths ] --------\")\n",
    "age.queryCypher(cursor, GRAPH_NAME, \"MATCH p=()-[:workWith]-() RETURN p\")\n",
    "\n",
    "print(\"---[Parse & print paths row by row]---\")\n",
    "for path in age.getRows(cursor):\n",
    "    print(path)\n"
   ]
  },
  {
   "cell_type": "markdown",
   "id": "79d95f5a-4f60-45ee-895d-84f04e10158c",
   "metadata": {},
   "source": [
    "## Query Scalar or properties value"
   ]
  },
  {
   "cell_type": "code",
   "execution_count": 5,
   "id": "012a2453-5b48-433c-bf61-0031bf02121e",
   "metadata": {},
   "outputs": [
    {
     "name": "stdout",
     "output_type": "stream",
     "text": [
      "-- Query scalar value --------------------\n",
      "844424930131969\n",
      "-- Query properties --------------------\n",
      "{'name': 'Joe'}\n",
      "-- Query properties value --------------------\n",
      "Developer\n",
      "-- Query path count --------\n",
      "2\n"
     ]
    }
   ],
   "source": [
    "# Query scalar value\n",
    "print(\"-- Query scalar value --------------------\")\n",
    "age.queryCypher(cursor, GRAPH_NAME, \"MATCH (n:Person) RETURN id(n)\")\n",
    "value = age.getSingle(cursor)\n",
    "print(value)\n",
    "    \n",
    "# Query properties \n",
    "print(\"-- Query properties --------------------\")\n",
    "age.queryCypher(cursor, GRAPH_NAME, \"MATCH (n:Person) RETURN properties(n)\")\n",
    "value = age.getSingle(cursor)\n",
    "print(value)\n",
    "    \n",
    "# Query properties value\n",
    "print(\"-- Query properties value --------------------\")\n",
    "age.queryCypher(cursor, GRAPH_NAME, \"MATCH (n:Person {name: 'Andy'}) RETURN n.title\")\n",
    "value = age.getSingle(cursor)\n",
    "print(value)\n",
    "    \n",
    "print(\"-- Query path count --------\")\n",
    "age.queryCypher(cursor, GRAPH_NAME, \"MATCH p=(:Person {name: 'Andy'})-[:workWith]-() RETURN count(p)\")\n",
    "graph = age.buildGraph(cursor)\n",
    "print(graph[0])"
   ]
  },
  {
   "cell_type": "markdown",
   "id": "7e42db99-716d-49c1-bc2e-913fb65251a7",
   "metadata": {},
   "source": [
    "## Close connection"
   ]
  },
  {
   "cell_type": "code",
   "execution_count": 6,
   "id": "5c768e7e-9270-4949-9595-16afa348dc59",
   "metadata": {},
   "outputs": [],
   "source": [
    "# Clear test data\n",
    "cursor.execute(\"SELECT drop_graph(%s, true);\", (GRAPH_NAME,))\n",
    "conn.commit()\n",
    "\n",
    "conn.close()"
   ]
  },
  {
   "cell_type": "code",
   "execution_count": null,
   "id": "2378fdea-2d3f-4ee2-bd4c-41e90b352d31",
   "metadata": {},
   "outputs": [],
   "source": []
  }
 ],
 "metadata": {
  "kernelspec": {
   "display_name": "Python 3",
   "language": "python",
   "name": "python3"
  },
  "language_info": {
   "codemirror_mode": {
    "name": "ipython",
    "version": 3
   },
   "file_extension": ".py",
   "mimetype": "text/x-python",
   "name": "python",
   "nbconvert_exporter": "python",
   "pygments_lexer": "ipython3",
   "version": "3.9.2"
  }
 },
 "nbformat": 4,
 "nbformat_minor": 5
}
