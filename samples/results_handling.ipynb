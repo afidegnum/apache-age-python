{
 "cells": [
  {
   "cell_type": "code",
   "execution_count": null,
   "id": "a3a9d9fd-bc03-470b-8433-41ea16653879",
   "metadata": {},
   "outputs": [],
   "source": []
  },
  {
   "cell_type": "code",
   "execution_count": 8,
   "id": "0eb1d88a-f1db-45cb-b6b1-d59aa30ad3e8",
   "metadata": {},
   "outputs": [
    {
     "name": "stdout",
     "output_type": "stream",
     "text": [
      "-- Query Vertices in full parsed Graph --------------------\n",
      "Person Joe {label:Person, id:1407374883553901, properties:{name: Joe,}}::VERTEX\n",
      "Person Smith {label:Person, id:1407374883553902, properties:{name: Smith,}}::VERTEX\n",
      "Person Jack {label:Person, id:1407374883553903, properties:{name: Jack,}}::VERTEX\n",
      "Person Andy {label:Person, id:1407374883553904, properties:{name: Andy,title: Developer,}}::VERTEX\n",
      "Person Tom {label:Person, id:1407374883553905, properties:{name: Tom,title: Developer,}}::VERTEX\n",
      "-- Query Vertices with ag.rows(). --------------------\n",
      "{label:Person, id:1407374883553901, properties:{name: Joe,}}::VERTEX\n",
      "Person Joe\n",
      "{\"gtype\": \"vertex\", \"label\":\"Person\", \"id\":1407374883553901, \"properties\":{\"name\": \"Joe\",}}\n",
      "{label:Person, id:1407374883553902, properties:{name: Smith,}}::VERTEX\n",
      "Person Smith\n",
      "{\"gtype\": \"vertex\", \"label\":\"Person\", \"id\":1407374883553902, \"properties\":{\"name\": \"Smith\",}}\n",
      "{label:Person, id:1407374883553903, properties:{name: Jack,}}::VERTEX\n",
      "Person Jack\n",
      "{\"gtype\": \"vertex\", \"label\":\"Person\", \"id\":1407374883553903, \"properties\":{\"name\": \"Jack\",}}\n",
      "{label:Person, id:1407374883553904, properties:{name: Andy,title: Developer,}}::VERTEX\n",
      "Person Andy\n",
      "{\"gtype\": \"vertex\", \"label\":\"Person\", \"id\":1407374883553904, \"properties\":{\"name\": \"Andy\",\"title\": \"Developer\",}}\n",
      "{label:Person, id:1407374883553905, properties:{name: Tom,title: Developer,}}::VERTEX\n",
      "Person Tom\n",
      "{\"gtype\": \"vertex\", \"label\":\"Person\", \"id\":1407374883553905, \"properties\":{\"name\": \"Tom\",\"title\": \"Developer\",}}\n",
      "-- [Query path] --------\n",
      "None\n",
      "None\n",
      "None\n",
      "None\n"
     ]
    }
   ],
   "source": [
    "import age\n",
    "from age.gen.ageParser import *\n",
    "import antlr4\n",
    "\n",
    "ag = age.connect(graph=\"my_graph\", host=\"172.17.0.3\", port=\"5432\", dbname=\"postgres\", user=\"postgres\", password=\"agens\")\n",
    "\n",
    "# Create Vertices\n",
    "ag.execCypher(\"CREATE (n:Person {name: 'Joe'})\")\n",
    "ag.execCypher(\"CREATE (n:Person {name: 'Smith'})\")\n",
    "ag.execCypher(\"CREATE (n:Person {name: %s})\", ('Jack',))\n",
    "ag.execCypher(\"CREATE (n:Person {name: 'Andy', title: 'Developer'})\")\n",
    "ag.execCypher(\"CREATE (n:Person {name: %s, title: %s})\", ('Tom','Developer',))\n",
    "ag.commit()\n",
    "\n",
    "# Query Vertices with result parsed full graph.\n",
    "print(\"-- Query Vertices in full parsed Graph --------------------\")\n",
    "ag.queryCypher(\"MATCH (n) RETURN n\")\n",
    "graph = ag.graph()\n",
    "for row in graph:\n",
    "    print(row.label, row.properties[\"name\"], row)\n",
    "\n",
    "# Query Vertices with parsed row cursor.\n",
    "print(\"-- Query Vertices with ag.rows(). --------------------\")\n",
    "ag.queryCypher(\"MATCH (n) RETURN n\")\n",
    "for row in ag.rows():\n",
    "    print(row)\n",
    "    print(row.label, row.properties[\"name\"])\n",
    "    print(row.toJson())\n",
    "\n",
    "\n",
    "# Create Edges\n",
    "ag.execCypher(\"MATCH (a:Person), (b:Person) WHERE a.name = 'Joe' AND b.name = 'Smith' CREATE (a)-[r:workWith]->(b)\")\n",
    "ag.execCypher(\"MATCH (a:Person), (b:Person) WHERE  a.name = 'Andy' AND b.name = 'Tom' CREATE (a)-[r:workWith]->(b)\")\n",
    "ag.commit()\n",
    "\n",
    "print(\"-- [Query path] --------\")\n",
    "ag.queryCypher(\"MATCH p=()-[:workWith]-() RETURN p\")\n",
    "graph = ag.graph()\n",
    "for row in graph:\n",
    "    print(row)\n",
    "\n",
    "\n",
    "ag.execCypher(\"MATCH (n:Person) DETACH DELETE n RETURN *\")\n",
    "ag.commit()\n",
    "\n",
    "ag.close()"
   ]
  },
  {
   "cell_type": "code",
   "execution_count": null,
   "id": "9ffbd8d1-2175-4969-a8bf-47364639df7a",
   "metadata": {},
   "outputs": [],
   "source": []
  },
  {
   "cell_type": "code",
   "execution_count": null,
   "id": "bf9ca351-12f4-4abb-b9e5-a03c2f5d48c9",
   "metadata": {},
   "outputs": [],
   "source": []
  }
 ],
 "metadata": {
  "kernelspec": {
   "display_name": "Python 3",
   "language": "python",
   "name": "python3"
  },
  "language_info": {
   "codemirror_mode": {
    "name": "ipython",
    "version": 3
   },
   "file_extension": ".py",
   "mimetype": "text/x-python",
   "name": "python",
   "nbconvert_exporter": "python",
   "pygments_lexer": "ipython3",
   "version": "3.9.2"
  }
 },
 "nbformat": 4,
 "nbformat_minor": 5
}
