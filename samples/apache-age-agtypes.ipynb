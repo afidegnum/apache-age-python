{
 "cells": [
  {
   "cell_type": "code",
   "execution_count": 1,
   "id": "6301516b-a3fa-48e2-a95f-0f79903a6cdd",
   "metadata": {},
   "outputs": [],
   "source": [
    "import unittest\n",
    "from decimal import Decimal\n",
    "import age \n",
    "\n",
    "resultHandler = age.newResultHandler()\n",
    "    \n",
    "def handleRow(exp):\n",
    "    return resultHandler.handleRow(exp) \n"
   ]
  },
  {
   "cell_type": "code",
   "execution_count": 2,
   "id": "adf14fe9-692c-4701-86d4-8c84fd53d966",
   "metadata": {},
   "outputs": [
    {
     "name": "stdout",
     "output_type": "stream",
     "text": [
      "map <class 'dict'> {'name': 'Smith', 'num': 123, 'yn': True, 'bigInt': Decimal('123456789123456789123456789123456789')}\n",
      "arr <class 'list'> ['name', 'Smith', 'num', 123, 'yn', True, Decimal('123456789123456789123456789123456789.8888')]\n",
      "str <class 'str'> abcd\n",
      "intVal <class 'int'> 1234\n",
      "floatVal <class 'float'> 1234.56789\n",
      "bigFloat <class 'decimal.Decimal'> 12345678901234567890123456789123456789.789\n",
      "bigInt <class 'decimal.Decimal'> 12345678901234567890123456789123456789\n",
      "bool <class 'bool'> True\n"
     ]
    }
   ],
   "source": [
    "\n",
    "mapStr = '{\"name\": \"Smith\", \"num\":123, \"yn\":true, \"bigInt\":123456789123456789123456789123456789::numeric}' \n",
    "arrStr =  '[\"name\", \"Smith\", \"num\", 123, \"yn\", true, 123456789123456789123456789123456789.8888::numeric]' \n",
    "strStr =  '\"abcd\"' \n",
    "intStr =  '1234' \n",
    "floatStr =  '1234.56789' \n",
    "numericStr1 =  '12345678901234567890123456789123456789.789::numeric' \n",
    "numericStr2 =  '12345678901234567890123456789123456789::numeric' \n",
    "boolStr = 'true' \n",
    "\n",
    "mapVal = handleRow(mapStr)\n",
    "arrVal = handleRow(arrStr)\n",
    "str = handleRow(strStr)\n",
    "intVal = handleRow(intStr)\n",
    "floatVal = handleRow(floatStr)\n",
    "bigFloat = handleRow(numericStr1)\n",
    "bigInt = handleRow(numericStr2)\n",
    "boolVal = handleRow(boolStr)\n",
    "\n",
    "print(\"map\", type(mapVal), mapVal)\n",
    "print(\"arr\", type(arrVal), arrVal)\n",
    "print(\"str\", type(str), str)\n",
    "print(\"intVal\", type(intVal), intVal)\n",
    "print(\"floatVal\", type(floatVal), floatVal)\n",
    "print(\"bigFloat\", type(bigFloat), bigFloat)\n",
    "print(\"bigInt\", type(bigInt), bigInt)\n",
    "print(\"bool\", type(boolVal), boolVal)\n"
   ]
  },
  {
   "cell_type": "code",
   "execution_count": 3,
   "id": "8881804e-d71d-4704-b74c-376ed55be808",
   "metadata": {},
   "outputs": [
    {
     "name": "stdout",
     "output_type": "stream",
     "text": [
      "2251799813685425\n",
      "Person\n",
      "Smith\n",
      "123\n",
      "384.23424\n",
      "123456789123456789123456789123456789123456789123456789123456789123456789123456789123456789123456789123456789\n",
      "123456789123456789123456789123456789.12345\n",
      "True\n",
      "None\n"
     ]
    }
   ],
   "source": [
    " vertexExp = '''{\"id\": 2251799813685425, \"label\": \"Person\", \n",
    "    \"properties\": {\"name\": \"Smith\", \"numInt\":123, \"numFloat\": 384.23424, \n",
    "    \"bigInt\":123456789123456789123456789123456789123456789123456789123456789123456789123456789123456789123456789123456789::numeric, \n",
    "    \"bigFloat\":123456789123456789123456789123456789.12345::numeric, \n",
    "    \"yn\":true, \"nullVal\": null}}::vertex'''\n",
    "\n",
    "vertex = handleRow(vertexExp)\n",
    "print(vertex.id)\n",
    "print(vertex.label)\n",
    "print(vertex[\"name\"])\n",
    "print(vertex[\"numInt\"])\n",
    "print(vertex[\"numFloat\"])\n",
    "print(vertex[\"bigInt\"])\n",
    "print(vertex[\"bigFloat\"])\n",
    "print(vertex[\"yn\"])\n",
    "print(vertex[\"nullVal\"])"
   ]
  },
  {
   "cell_type": "code",
   "execution_count": 11,
   "id": "0a70e467-9587-4eb7-b97d-895223009bcc",
   "metadata": {},
   "outputs": [
    {
     "name": "stdout",
     "output_type": "stream",
     "text": [
      "2251799813685425\n",
      "Person\n",
      "Smith\n",
      "2533274790396576\n",
      "workWith\n",
      "3\n",
      "123456789123456789123456789.12345\n",
      "2251799813685424\n",
      "Person\n",
      "Joe\n",
      "52\n",
      "5\n",
      "107\n"
     ]
    }
   ],
   "source": [
    "\n",
    "pathExp = '''[{\"id\": 2251799813685425, \"label\": \"Person\", \"properties\": {\"name\": \"Smith\"}}::vertex, \n",
    "    {\"id\": 2533274790396576, \"label\": \"workWith\", \"end_id\": 2251799813685425, \"start_id\": 2251799813685424, \n",
    "        \"properties\": {\"weight\": 3, \"bigFloat\":123456789123456789123456789.12345::numeric}}::edge, \n",
    "    {\"id\": 2251799813685424, \"label\": \"Person\", \"properties\": {\"name\": \"Joe\"}}::vertex]::path'''\n",
    "\n",
    "path = handleRow(pathExp)\n",
    "vertexStart = path[0]\n",
    "edge = path[1]\n",
    "vertexEnd = path[2]\n",
    "print(vertexStart.id)\n",
    "print(vertexStart.label)\n",
    "print(vertexStart[\"name\"])\n",
    "\n",
    "print(edge.id)\n",
    "print(edge.label)\n",
    "print(edge[\"weight\"])\n",
    "print(edge[\"bigFloat\"])\n",
    "\n",
    "print(vertexEnd.id)\n",
    "print(vertexEnd.label)\n",
    "print(vertexEnd[\"name\"])\n",
    "\n"
   ]
  },
  {
   "cell_type": "code",
   "execution_count": 5,
   "id": "ddc23c8c-eac9-4a15-8a22-1f6a9948803c",
   "metadata": {},
   "outputs": [
    {
     "name": "stdout",
     "output_type": "stream",
     "text": [
      "6.45161290322581e+46 | 6.45161290322581e+46 | <class 'float'>\n",
      "123456789.99::numeric | 123456789.99 | <class 'decimal.Decimal'>\n",
      "1234 | 1234 | <class 'int'>\n",
      "NaN | nan | <class 'float'>\n",
      "-Infinity | -inf | <class 'float'>\n",
      "Infinity | inf | <class 'float'>\n"
     ]
    }
   ],
   "source": [
    "import age \n",
    "\n",
    "resultHandler = age.newResultHandler()\n",
    "    \n",
    "def handleRow(exp):\n",
    "    return resultHandler.handleRow(exp) \n",
    "\n",
    "def evalExp(exp):\n",
    "    value = handleRow(exp)\n",
    "    print(exp, \"|\" ,value, \"|\", type(value))\n",
    "    \n",
    "    \n",
    "evalExp('6.45161290322581e+46') \n",
    "evalExp('123456789.99::numeric') \n",
    "evalExp('1234') \n",
    "evalExp('NaN') \n",
    "evalExp('-Infinity') \n",
    "evalExp('Infinity') "
   ]
  },
  {
   "cell_type": "code",
   "execution_count": null,
   "id": "62b7273f-ac6c-4dec-af7e-0467daa140f4",
   "metadata": {},
   "outputs": [],
   "source": []
  }
 ],
 "metadata": {
  "kernelspec": {
   "display_name": "Python 3",
   "language": "python",
   "name": "python3"
  },
  "language_info": {
   "codemirror_mode": {
    "name": "ipython",
    "version": 3
   },
   "file_extension": ".py",
   "mimetype": "text/x-python",
   "name": "python",
   "nbconvert_exporter": "python",
   "pygments_lexer": "ipython3",
   "version": "3.9.2"
  }
 },
 "nbformat": 4,
 "nbformat_minor": 5
}
