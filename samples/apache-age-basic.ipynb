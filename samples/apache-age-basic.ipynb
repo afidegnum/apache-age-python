{
 "cells": [
  {
   "cell_type": "markdown",
   "id": "2e236ac7-6f78-4a59-bed7-45f593d060c2",
   "metadata": {},
   "source": [
    "# Basic Samples : Agtype mapper for Psycopg2 driver\n",
    "\n",
    "You can make transactions and queries for PostgreSQL with Psycopg2.\n",
    "\n",
    "This module enable to mapping agtype to python class(Path, Vertex, Edge)\n",
    "\n",
    "## Connect to PostgreSQL and agType setting"
   ]
  },
  {
   "cell_type": "code",
   "execution_count": 24,
   "id": "98a5863c-1e79-438e-81d4-d1f5354a1bdb",
   "metadata": {},
   "outputs": [],
   "source": [
    "import psycopg2 \n",
    "import age\n",
    "\n",
    "GRAPH_NAME = \"test_graph\"\n",
    "conn = psycopg2.connect(host=\"172.17.0.2\", port=\"5432\", dbname=\"postgres\", user=\"postgres\", password=\"agens\")\n",
    "\n",
    "age.setUpAge(conn, GRAPH_NAME)\n",
    "\n",
    "\n",
    "# conn.set_session(readonly=True, autocommit=True)\n"
   ]
  },
  {
   "cell_type": "code",
   "execution_count": 26,
   "id": "ebcf65a5-de7c-4224-aacc-2695c9e5f8d5",
   "metadata": {},
   "outputs": [
    {
     "name": "stdout",
     "output_type": "stream",
     "text": [
      "CREATED:: {label:Person, id:844424930131987, properties:{name: Tom,title: Manager,}}::VERTEX\n",
      "------- [Select Vertices] --------\n",
      "844424930131969 Person Joe None\n",
      "--> {label:Person, id:844424930131969, properties:{name: Joe,}}::VERTEX\n",
      "844424930131970 Person Smith None\n",
      "--> {label:Person, id:844424930131970, properties:{name: Smith,}}::VERTEX\n",
      "844424930131971 Person Joe None\n",
      "--> {label:Person, id:844424930131971, properties:{name: Joe,}}::VERTEX\n",
      "844424930131972 Person Smith None\n",
      "--> {label:Person, id:844424930131972, properties:{name: Smith,}}::VERTEX\n",
      "844424930131973 Person Joe None\n",
      "--> {label:Person, id:844424930131973, properties:{name: Joe,}}::VERTEX\n",
      "844424930131974 Person Smith None\n",
      "--> {label:Person, id:844424930131974, properties:{name: Smith,}}::VERTEX\n",
      "844424930131975 Person Joe None\n",
      "--> {label:Person, id:844424930131975, properties:{name: Joe,}}::VERTEX\n",
      "844424930131976 Person Smith None\n",
      "--> {label:Person, id:844424930131976, properties:{name: Smith,}}::VERTEX\n",
      "844424930131977 Person Joe None\n",
      "--> {label:Person, id:844424930131977, properties:{name: Joe,}}::VERTEX\n",
      "844424930131978 Person Smith None\n",
      "--> {label:Person, id:844424930131978, properties:{name: Smith,}}::VERTEX\n",
      "844424930131979 Person Jack None\n",
      "--> {label:Person, id:844424930131979, properties:{name: Jack,}}::VERTEX\n",
      "844424930131980 Person Andy Developer\n",
      "--> {label:Person, id:844424930131980, properties:{name: Andy,title: Developer,}}::VERTEX\n",
      "844424930131981 Person Tom Developer\n",
      "--> {label:Person, id:844424930131981, properties:{name: Tom,title: Developer,}}::VERTEX\n",
      "844424930131982 Person Joe Developer\n",
      "--> {label:Person, id:844424930131982, properties:{name: Joe,title: Developer,}}::VERTEX\n",
      "844424930131983 Person Smith Developer\n",
      "--> {label:Person, id:844424930131983, properties:{name: Smith,title: Developer,}}::VERTEX\n",
      "844424930131984 Person Tom Manager\n",
      "--> {label:Person, id:844424930131984, properties:{name: Tom,title: Manager,}}::VERTEX\n",
      "844424930131985 Person Joe Developer\n",
      "--> {label:Person, id:844424930131985, properties:{name: Joe,title: Developer,}}::VERTEX\n",
      "844424930131986 Person Smith Developer\n",
      "--> {label:Person, id:844424930131986, properties:{name: Smith,title: Developer,}}::VERTEX\n",
      "844424930131987 Person Tom Manager\n",
      "--> {label:Person, id:844424930131987, properties:{name: Tom,title: Manager,}}::VERTEX\n",
      "<class 'psycopg2.extensions.cursor'>\n",
      "------- [Select Paths] --------\n",
      "<class 'psycopg2.errors.SyntaxError'> syntax error at or near \"s\"\n",
      "LINE 1: ...T * from cypher('test_graph', $$ MATCH p=()-[]->()s RETURN p...\n",
      "                                                             ^\n",
      "\n"
     ]
    }
   ],
   "source": [
    "with conn.cursor() as cursor:\n",
    "    try :\n",
    "        cursor.execute(\"\"\"SELECT * from cypher(%s, $$ CREATE (n:Person {name: 'Joe', title: 'Developer'}) $$) as (v agtype); \"\"\", (GRAPH_NAME,) )\n",
    "        cursor.execute(\"\"\"SELECT * from cypher(%s, $$ CREATE (n:Person {name: 'Smith', title: 'Developer'}) $$) as (v agtype); \"\"\", (GRAPH_NAME,))\n",
    "        cursor.execute(\"\"\"SELECT * from cypher(%s, $$ \n",
    "            CREATE (n:Person {name: 'Tom', title: 'Manager'}) \n",
    "            RETURN n\n",
    "            $$) as (v agtype); \"\"\", (GRAPH_NAME,))\n",
    "        for row in cursor:\n",
    "            print(\"CREATED::\", row[0])\n",
    "        \n",
    "        \n",
    "        cursor.execute(\"\"\"SELECT * from cypher(%s, $$ \n",
    "            MATCH (a:Person {name: 'Joe'}), (b:Person {name: 'Smith'}) CREATE (a)-[r:workWith {weight: 5}]->(b)\n",
    "            $$) as (v agtype); \"\"\", (GRAPH_NAME,))\n",
    "        \n",
    "        cursor.execute(\"\"\"SELECT * from cypher(%s, $$ \n",
    "            MATCH (a:Person {name: 'Smith'}), (b:Person {name: 'Tom'}) CREATE (a)-[r:workWith {weight: 3}]->(b)\n",
    "            $$) as (v agtype); \"\"\", (GRAPH_NAME,))\n",
    "        \n",
    "        # When data inserted or updated, You must commit or set session option 'autocommit' True : conn.set_session(autocommit=True)\n",
    "        conn.commit()\n",
    "    except Exception as ex:\n",
    "        print(type(ex), ex)\n",
    "        # if exception occurs, you must rollback all transaction. \n",
    "        conn.rollback()\n",
    "\n",
    "with conn.cursor() as cursor:\n",
    "    try:\n",
    "        print(\"------- [Select Vertices] --------\")\n",
    "        cursor.execute(\"\"\"SELECT * from cypher(%s, $$ MATCH (n) RETURN n $$) as (v agtype); \"\"\", (GRAPH_NAME,))\n",
    "        for row in cursor:\n",
    "            vertex = row[0]\n",
    "            print(vertex.id, vertex.label, vertex[\"name\"], vertex[\"title\"])\n",
    "            print(\"-->\", vertex)\n",
    "            \n",
    "        print(type(cursor))\n",
    "        print(\"------- [Select Paths] --------\")\n",
    "        cursor.execute(\"\"\"SELECT * from cypher(%s, $$ MATCH p=()-[]->()s RETURN p LIMIT 10 $$) as (v agtype); \"\"\", (GRAPH_NAME,))\n",
    "        for row in cursor:\n",
    "            path = row[0]\n",
    "            v1 = path[0]\n",
    "            e1 = path[1]\n",
    "            v2 = path[2]\n",
    "            print(v1.gtype , v1[\"name\"], e1.gtype , e1.label, e1[\"weight\"], v2.gtype , v2[\"name\"])\n",
    "            print(\"-->\", path)\n",
    "    except Exception as ex:\n",
    "        print(type(ex), ex)\n",
    "        # if exception occurs, you must rollback even though just retrieving.\n",
    "        conn.rollback()"
   ]
  },
  {
   "cell_type": "code",
   "execution_count": 3,
   "id": "f45f7c7d-2256-4aea-92f6-e0ad71017feb",
   "metadata": {},
   "outputs": [
    {
     "name": "stdout",
     "output_type": "stream",
     "text": [
      "Joe workWith Smith\n",
      "--> ('Joe', 'workWith', 'Smith')\n",
      "Smith workWith Tom\n",
      "--> ('Smith', 'workWith', 'Tom')\n",
      "Joe workWith Smith\n",
      "--> ('Joe', 'workWith', 'Smith')\n",
      "Smith workWith Tom\n",
      "--> ('Smith', 'workWith', 'Tom')\n"
     ]
    }
   ],
   "source": [
    "with conn.cursor() as cursor:\n",
    "    try:\n",
    "        cursor.execute(\"\"\"SELECT * from cypher(%s, $$ \n",
    "            MATCH p=(a)-[b]->(c) RETURN a.name, label(b), c.name \n",
    "            $$) as (a agtype, b agtype, c agtype); \"\"\", (GRAPH_NAME,))\n",
    "        for row in cursor:\n",
    "            print(row[0], row[1], row[2])\n",
    "            print(\"-->\", row)\n",
    "    except Exception as ex:\n",
    "        print(ex)\n",
    "        conn.rollback()"
   ]
  },
  {
   "cell_type": "code",
   "execution_count": 4,
   "id": "c40b9076-d45e-43e6-85ae-296ba68a3031",
   "metadata": {},
   "outputs": [],
   "source": [
    "with conn.cursor() as cursor:\n",
    "    try :\n",
    "        cursor.execute(\"\"\"SELECT * from cypher(%s, $$ \n",
    "            CREATE (n:Person {name: 'Jack', title: 'Developer', score:-6.45161290322581e+46}) \n",
    "            $$) as (v agtype); \"\"\", (GRAPH_NAME,) )\n",
    "        cursor.execute(\"\"\"SELECT * from cypher(%s, $$ \n",
    "            CREATE (n:Person {name: 'John', title: 'Developer'}) \n",
    "            $$) as (v agtype); \"\"\", (GRAPH_NAME,))\n",
    "\n",
    "        cursor.execute(\"\"\"SELECT * from cypher(%s, $$ \n",
    "            MATCH (a:Person {name: 'Jack'}), (b:Person {name: 'John'}) \n",
    "            CREATE (a)-[r:workWith {weight: 2, numericVal: 46.420000000000::numeric}]->(b)\n",
    "            $$) as (v agtype); \"\"\", (GRAPH_NAME,))\n",
    "        \n",
    "        # When data inserted or updated, You must commit or set session option 'autocommit' True : conn.set_session(autocommit=True)\n",
    "        conn.commit()\n",
    "    except Exception as ex:\n",
    "        print(ex)\n",
    "        conn.rollback()\n",
    "\n",
    "# When committed, you must make new cursor.\n",
    "with conn.cursor() as cursor:\n",
    "    try:\n",
    "        cursor.execute(\"\"\"SELECT * from cypher(%s, $$ \n",
    "            MATCH p=(a)-[b]->(c) WHERE b.numericVal>0 RETURN a , b, c \n",
    "            $$) as (ta agtype, tb agtype, tc agtype); \"\"\", (GRAPH_NAME,))\n",
    "        \n",
    "        for row in cursor:\n",
    "            print(row[0][\"name\"], row[1].id, row[1][\"numericVal\"], row[2][\"name\"])\n",
    "    except Exception as ex:\n",
    "        print(ex)\n",
    "        conn.rollback()\n",
    "    \n"
   ]
  },
  {
   "cell_type": "code",
   "execution_count": 5,
   "id": "29ffe1b7-86df-446a-9df0-635be25a9eea",
   "metadata": {},
   "outputs": [
    {
     "name": "stdout",
     "output_type": "stream",
     "text": [
      "Joe 1125899906842625 None Smith\n",
      "Smith 1125899906842626 None Tom\n",
      "Joe 1125899906842627 None Smith\n",
      "Smith 1125899906842628 None Tom\n"
     ]
    }
   ],
   "source": [
    "with conn.cursor() as cursor:\n",
    "    try:\n",
    "        cursor.execute(\"\"\"SELECT * from cypher(%s, $$ \n",
    "            MATCH p=(a)-[b]->(c) RETURN p  \n",
    "            $$) as (v agtype); \"\"\", (GRAPH_NAME,))\n",
    "        for row in cursor:\n",
    "            path = row[0]\n",
    "            print(path[0][\"name\"], path[1].id, path[1][\"numericVal\"], path[2][\"name\"])\n",
    "    except Exception as ex:\n",
    "        print(ex)\n",
    "        conn.rollback()"
   ]
  },
  {
   "cell_type": "code",
   "execution_count": 6,
   "id": "428e6ddf-3958-49ff-af73-809b9a1ce42b",
   "metadata": {},
   "outputs": [],
   "source": [
    "age.deleteGraph(conn, GRAPH_NAME)\n",
    "conn.close()"
   ]
  },
  {
   "cell_type": "code",
   "execution_count": 22,
   "id": "a4819e39-9f37-4dd5-bdbd-337b6d289158",
   "metadata": {},
   "outputs": [
    {
     "name": "stdout",
     "output_type": "stream",
     "text": [
      "1 2 arr: [3, 4, 5] args: 9 10 11\n",
      "1 2 arr: 9 args: 10 11\n",
      "1 2 cols: (,3,,, ,4,,, ,5,) args: 9 10 11\n",
      "1 2 cols: 9 args: 10 11\n"
     ]
    }
   ],
   "source": [
    "\n",
    "    "
   ]
  },
  {
   "cell_type": "code",
   "execution_count": null,
   "id": "02041ef2-9761-4eb3-b270-ded23e1caa6d",
   "metadata": {},
   "outputs": [],
   "source": []
  }
 ],
 "metadata": {
  "kernelspec": {
   "display_name": "Python 3",
   "language": "python",
   "name": "python3"
  },
  "language_info": {
   "codemirror_mode": {
    "name": "ipython",
    "version": 3
   },
   "file_extension": ".py",
   "mimetype": "text/x-python",
   "name": "python",
   "nbconvert_exporter": "python",
   "pygments_lexer": "ipython3",
   "version": "3.9.2"
  }
 },
 "nbformat": 4,
 "nbformat_minor": 5
}
