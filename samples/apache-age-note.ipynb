{
 "cells": [
  {
   "cell_type": "markdown",
   "id": "722ec93e-b87c-43d0-9c54-61b30933d892",
   "metadata": {},
   "source": [
    "# Basic Samples : apache_age_py\n",
    "\n",
    "## Prepare\n",
    "```\n",
    "import age\n",
    "```\n",
    "## Connect to PostgreSQL(with AGE extention)\n",
    "```\n",
    "ag = age.connect(graph=\"(graph name}\", host=\"{host}\", port=\"{port}\", dbname=\"{dbname}\", user=\"{db username}\", password=\"{password}\")\n",
    "\n",
    "or \n",
    "\n",
    "ag = age.connect(host=\"{host}\", port=\"{port}\", dbname=\"{dbname}\", user=\"{db username}\", password=\"{password}\")\n",
    "# If you created a graphPath already.\n",
    "ag = age.setGraph(\"{graph name}\")\n",
    "```"
   ]
  },
  {
   "cell_type": "code",
   "execution_count": 1,
   "id": "34eaaafe-d9dc-442f-8248-0824c46c7b20",
   "metadata": {
    "tags": []
   },
   "outputs": [],
   "source": [
    "import age\n",
    "from age.gen.ageParser import *\n",
    "\n",
    "ag = age.connect(graph=\"my_graph\", host=\"172.17.0.3\", port=\"5432\", dbname=\"postgres\", user=\"postgres\", password=\"agens\")\n"
   ]
  },
  {
   "cell_type": "markdown",
   "id": "0f15bc37-4b19-4204-af93-757b07e7e9f9",
   "metadata": {},
   "source": [
    "## Create & Query Vertices\n",
    "\n",
    "### Create Vertices\n",
    "```\n",
    "ag.execCypher(\"CREATE(...)\") # Cypher Create Statement\n",
    "...\n",
    "ag.commit() # commit\n",
    "```\n",
    "\n",
    "### Query Vertices (with result parsed full Graph object)\n",
    "```\n",
    "ag.queryCypher(\"MATCH (n) RETURN n\") # Cypher Query\n",
    "graph = ag.graph()\n",
    "for vertex in graph:\n",
    "    print(vertex.label, vertex.properties[\"name\"], vertex) # row has id, label, properties \n",
    "```\n",
    "\n",
    "### Query Vertices (with parsed row cursor.)\n",
    "```\n",
    "ag.queryCypher(\"MATCH (n) RETURN n\")\n",
    "for vertex in ag.rows():\n",
    "    print(vertex.id, vertex.properties[\"name\"], vertex) # row has id, label, properties \n",
    "```"
   ]
  },
  {
   "cell_type": "code",
   "execution_count": 2,
   "id": "99cbc91e-55ae-4d2e-b81e-a655f88ec807",
   "metadata": {},
   "outputs": [
    {
     "name": "stdout",
     "output_type": "stream",
     "text": [
      "-- Query Vertices in full parsed Graph --------------------\n",
      "Person Joe {label:Person, id:2251799813685384, properties:{name: Joe,}}::VERTEX\n",
      "Person Smith {label:Person, id:2251799813685385, properties:{name: Smith,}}::VERTEX\n",
      "Person Jack {label:Person, id:2251799813685386, properties:{name: Jack,}}::VERTEX\n",
      "Person Andy {label:Person, id:2251799813685387, properties:{name: Andy,title: Developer,}}::VERTEX\n",
      "Person Tom {label:Person, id:2251799813685388, properties:{name: Tom,title: Developer,}}::VERTEX\n",
      "-- Query Vertices with ag.rows(). --------------------\n",
      "{label:Person, id:2251799813685384, properties:{name: Joe,}}::VERTEX\n",
      "2251799813685384 Joe\n",
      "{\"gtype\": \"vertex\", \"label\":\"Person\", \"id\":2251799813685384, \"properties\":{\"name\": \"Joe\",}}\n",
      "{label:Person, id:2251799813685385, properties:{name: Smith,}}::VERTEX\n",
      "2251799813685385 Smith\n",
      "{\"gtype\": \"vertex\", \"label\":\"Person\", \"id\":2251799813685385, \"properties\":{\"name\": \"Smith\",}}\n",
      "{label:Person, id:2251799813685386, properties:{name: Jack,}}::VERTEX\n",
      "2251799813685386 Jack\n",
      "{\"gtype\": \"vertex\", \"label\":\"Person\", \"id\":2251799813685386, \"properties\":{\"name\": \"Jack\",}}\n",
      "{label:Person, id:2251799813685387, properties:{name: Andy,title: Developer,}}::VERTEX\n",
      "2251799813685387 Andy\n",
      "{\"gtype\": \"vertex\", \"label\":\"Person\", \"id\":2251799813685387, \"properties\":{\"name\": \"Andy\",\"title\": \"Developer\",}}\n",
      "{label:Person, id:2251799813685388, properties:{name: Tom,title: Developer,}}::VERTEX\n",
      "2251799813685388 Tom\n",
      "{\"gtype\": \"vertex\", \"label\":\"Person\", \"id\":2251799813685388, \"properties\":{\"name\": \"Tom\",\"title\": \"Developer\",}}\n"
     ]
    }
   ],
   "source": [
    "# Create Vertices\n",
    "ag.execCypher(\"CREATE (n:Person {name: 'Joe'})\")\n",
    "ag.execCypher(\"CREATE (n:Person {name: 'Smith'})\")\n",
    "ag.execCypher(\"CREATE (n:Person {name: %s})\", ('Jack',))\n",
    "ag.execCypher(\"CREATE (n:Person {name: 'Andy', title: 'Developer'})\")\n",
    "ag.execCypher(\"CREATE (n:Person {name: %s, title: %s})\", ('Tom','Developer',))\n",
    "ag.commit()\n",
    "\n",
    "# Query Vertices with result parsed full graph.\n",
    "print(\"-- Query Vertices in full parsed Graph --------------------\")\n",
    "ag.queryCypher(\"MATCH (n:Person) RETURN n\")\n",
    "graph = ag.graph()\n",
    "for vertex in graph:\n",
    "    print(vertex.label, vertex.properties['name'], vertex)\n",
    "\n",
    "# Query Vertices with parsed row cursor.\n",
    "print(\"-- Query Vertices with ag.rows(). --------------------\")\n",
    "ag.queryCypher(\"MATCH (n:Person) RETURN n\")\n",
    "for vertex in ag.rows():\n",
    "    print(vertex)\n",
    "    print(vertex.id, vertex.properties[\"name\"])\n",
    "    print(vertex.toJson())\n"
   ]
  },
  {
   "cell_type": "markdown",
   "id": "0a8606b5-8583-49f9-aa39-a1ac3e90d542",
   "metadata": {},
   "source": [
    "## Create Relation & Query Path\n",
    "\n",
    "### Create Relations\n",
    "```\n",
    "ag.execCypher(\"MATCH (a:Person), (b:Person) WHERE  a.name = 'Andy' AND b.name = 'Tom' CREATE (a)-[r:workWith]->(b)\")\n",
    "...\n",
    "ag.commit() # commit\n",
    "```\n",
    "\n",
    "### Query Relations (with result parsed full Graph object)\n",
    "```\n",
    "ag.queryCypher(\"MATCH p=()-[:workWith]-() RETURN p\") # Cypher Query\n",
    "graph = ag.graph()\n",
    "for path in graph:\n",
    "    print(path)  \n",
    "```\n",
    "\n",
    "### Query Relations (with parsed row cursor.)\n",
    "```\n",
    "ag.queryCypher(\"MATCH MATCH p=()-[:workWith]-() RETURN p\")\n",
    "for path in ag.rows():\n",
    "    print(path)  \n",
    "```"
   ]
  },
  {
   "cell_type": "code",
   "execution_count": 3,
   "id": "0f904526-59d7-4025-9878-15e458bc5b56",
   "metadata": {},
   "outputs": [
    {
     "name": "stdout",
     "output_type": "stream",
     "text": [
      "-- [Query path] --------\n",
      "[{label:Person, id:2251799813685385, properties:{name: Smith,}}::VERTEX,{label:workWith, id:2533274790396544, properties:{weight: 3,}, start_id:2251799813685384, end_id:2251799813685385}::EDGE,{label:Person, id:2251799813685384, properties:{name: Joe,}}::VERTEX]::PATH\n",
      "[{label:Person, id:2251799813685386, properties:{name: Jack,}}::VERTEX,{label:workWith, id:2533274790396547, properties:{weight: 5,}, start_id:2251799813685384, end_id:2251799813685386}::EDGE,{label:Person, id:2251799813685384, properties:{name: Joe,}}::VERTEX]::PATH\n",
      "[{label:Person, id:2251799813685384, properties:{name: Joe,}}::VERTEX,{label:workWith, id:2533274790396544, properties:{weight: 3,}, start_id:2251799813685384, end_id:2251799813685385}::EDGE,{label:Person, id:2251799813685385, properties:{name: Smith,}}::VERTEX]::PATH\n",
      "[{label:Person, id:2251799813685387, properties:{name: Andy,title: Developer,}}::VERTEX,{label:workWith, id:2533274790396546, properties:{weight: 5,}, start_id:2251799813685386, end_id:2251799813685387}::EDGE,{label:Person, id:2251799813685386, properties:{name: Jack,}}::VERTEX]::PATH\n",
      "[{label:Person, id:2251799813685384, properties:{name: Joe,}}::VERTEX,{label:workWith, id:2533274790396547, properties:{weight: 5,}, start_id:2251799813685384, end_id:2251799813685386}::EDGE,{label:Person, id:2251799813685386, properties:{name: Jack,}}::VERTEX]::PATH\n",
      "[{label:Person, id:2251799813685388, properties:{name: Tom,title: Developer,}}::VERTEX,{label:workWith, id:2533274790396545, properties:{weight: 1,}, start_id:2251799813685387, end_id:2251799813685388}::EDGE,{label:Person, id:2251799813685387, properties:{name: Andy,title: Developer,}}::VERTEX]::PATH\n",
      "[{label:Person, id:2251799813685386, properties:{name: Jack,}}::VERTEX,{label:workWith, id:2533274790396546, properties:{weight: 5,}, start_id:2251799813685386, end_id:2251799813685387}::EDGE,{label:Person, id:2251799813685387, properties:{name: Andy,title: Developer,}}::VERTEX]::PATH\n",
      "[{label:Person, id:2251799813685387, properties:{name: Andy,title: Developer,}}::VERTEX,{label:workWith, id:2533274790396545, properties:{weight: 1,}, start_id:2251799813685387, end_id:2251799813685388}::EDGE,{label:Person, id:2251799813685388, properties:{name: Tom,title: Developer,}}::VERTEX]::PATH\n",
      "-- Query graph and print raw string  ----\n",
      "[{\"id\": 2251799813685385, \"label\": \"Person\", \"properties\": {\"name\": \"Smith\"}}::vertex, {\"id\": 2533274790396544, \"label\": \"workWith\", \"end_id\": 2251799813685385, \"start_id\": 2251799813685384, \"properties\": {\"weight\": 3}}::edge, {\"id\": 2251799813685384, \"label\": \"Person\", \"properties\": {\"name\": \"Joe\"}}::vertex]::path\n",
      "[{\"id\": 2251799813685386, \"label\": \"Person\", \"properties\": {\"name\": \"Jack\"}}::vertex, {\"id\": 2533274790396547, \"label\": \"workWith\", \"end_id\": 2251799813685386, \"start_id\": 2251799813685384, \"properties\": {\"weight\": 5}}::edge, {\"id\": 2251799813685384, \"label\": \"Person\", \"properties\": {\"name\": \"Joe\"}}::vertex]::path\n",
      "[{\"id\": 2251799813685384, \"label\": \"Person\", \"properties\": {\"name\": \"Joe\"}}::vertex, {\"id\": 2533274790396544, \"label\": \"workWith\", \"end_id\": 2251799813685385, \"start_id\": 2251799813685384, \"properties\": {\"weight\": 3}}::edge, {\"id\": 2251799813685385, \"label\": \"Person\", \"properties\": {\"name\": \"Smith\"}}::vertex]::path\n",
      "[{\"id\": 2251799813685387, \"label\": \"Person\", \"properties\": {\"name\": \"Andy\", \"title\": \"Developer\"}}::vertex, {\"id\": 2533274790396546, \"label\": \"workWith\", \"end_id\": 2251799813685387, \"start_id\": 2251799813685386, \"properties\": {\"weight\": 5}}::edge, {\"id\": 2251799813685386, \"label\": \"Person\", \"properties\": {\"name\": \"Jack\"}}::vertex]::path\n",
      "[{\"id\": 2251799813685384, \"label\": \"Person\", \"properties\": {\"name\": \"Joe\"}}::vertex, {\"id\": 2533274790396547, \"label\": \"workWith\", \"end_id\": 2251799813685386, \"start_id\": 2251799813685384, \"properties\": {\"weight\": 5}}::edge, {\"id\": 2251799813685386, \"label\": \"Person\", \"properties\": {\"name\": \"Jack\"}}::vertex]::path\n",
      "[{\"id\": 2251799813685388, \"label\": \"Person\", \"properties\": {\"name\": \"Tom\", \"title\": \"Developer\"}}::vertex, {\"id\": 2533274790396545, \"label\": \"workWith\", \"end_id\": 2251799813685388, \"start_id\": 2251799813685387, \"properties\": {\"weight\": 1}}::edge, {\"id\": 2251799813685387, \"label\": \"Person\", \"properties\": {\"name\": \"Andy\", \"title\": \"Developer\"}}::vertex]::path\n",
      "[{\"id\": 2251799813685386, \"label\": \"Person\", \"properties\": {\"name\": \"Jack\"}}::vertex, {\"id\": 2533274790396546, \"label\": \"workWith\", \"end_id\": 2251799813685387, \"start_id\": 2251799813685386, \"properties\": {\"weight\": 5}}::edge, {\"id\": 2251799813685387, \"label\": \"Person\", \"properties\": {\"name\": \"Andy\", \"title\": \"Developer\"}}::vertex]::path\n",
      "[{\"id\": 2251799813685387, \"label\": \"Person\", \"properties\": {\"name\": \"Andy\", \"title\": \"Developer\"}}::vertex, {\"id\": 2533274790396545, \"label\": \"workWith\", \"end_id\": 2251799813685388, \"start_id\": 2251799813685387, \"properties\": {\"weight\": 1}}::edge, {\"id\": 2251799813685388, \"label\": \"Person\", \"properties\": {\"name\": \"Tom\", \"title\": \"Developer\"}}::vertex]::path\n"
     ]
    }
   ],
   "source": [
    "\n",
    "# Create Edges\n",
    "ag.execCypher(\"MATCH (a:Person), (b:Person) WHERE a.name = 'Joe' AND b.name = 'Smith' CREATE (a)-[r:workWith {weight: 3}]->(b)\")\n",
    "ag.execCypher(\"MATCH (a:Person), (b:Person) WHERE  a.name = 'Andy' AND b.name = 'Tom' CREATE (a)-[r:workWith {weight: 1}]->(b)\")\n",
    "ag.execCypher(\"MATCH (a:Person {name: 'Jack'}), (b:Person {name: 'Andy'}) CREATE (a)-[r:workWith {weight: 5}]->(b)\")\n",
    "ag.execCypher(\"MATCH (a:Person {name: 'Joe'}), (b:Person {name: 'Jack'}) CREATE (a)-[r:workWith {weight: 5}]->(b)\")\n",
    "ag.commit()\n",
    "\n",
    "print(\"-- [Query path] --------\")\n",
    "ag.queryCypher(\"MATCH p=()-[:workWith]-() RETURN p\")\n",
    "graph = ag.graph()\n",
    "for path in graph:\n",
    "    print(path)\n",
    "    \n",
    "print(\"-- Query graph and print raw string  ----\")\n",
    "from age import rawPrinter\n",
    "ag.queryCypher(\"MATCH p=()-[:workWith]-() RETURN p\")\n",
    "graph = ag.graph(resultHandler=rawPrinter)\n",
    "    "
   ]
  },
  {
   "cell_type": "markdown",
   "id": "f502e0db-a603-4eb9-90e8-dac2c9edd1d4",
   "metadata": {},
   "source": [
    "## Query Scalar, properties value"
   ]
  },
  {
   "cell_type": "code",
   "execution_count": 4,
   "id": "7f93e698-888a-4dde-b327-e591659e051f",
   "metadata": {},
   "outputs": [
    {
     "name": "stdout",
     "output_type": "stream",
     "text": [
      "-- Query scalar value --------------------\n",
      "2251799813685384\n",
      "2251799813685385\n",
      "2251799813685386\n",
      "2251799813685387\n",
      "2251799813685388\n",
      "-- Query properties --------------------\n",
      "{'name': 'Joe'}\n",
      "{'name': 'Smith'}\n",
      "{'name': 'Jack'}\n",
      "{'name': 'Andy', 'title': 'Developer'}\n",
      "{'name': 'Tom', 'title': 'Developer'}\n",
      "-- Query properties value --------------------\n",
      "Developer\n",
      "-- Query path count --------\n",
      "2\n"
     ]
    }
   ],
   "source": [
    "# Query scalar value\n",
    "print(\"-- Query scalar value --------------------\")\n",
    "ag.queryCypher(\"MATCH (n:Person) RETURN id(n)\")\n",
    "for row in ag.rows():\n",
    "    print(row)\n",
    "    \n",
    "# Query properties \n",
    "print(\"-- Query properties --------------------\")\n",
    "ag.queryCypher(\"MATCH (n:Person) RETURN properties(n)\")\n",
    "for row in ag.rows():\n",
    "    print(row)\n",
    "    \n",
    "# Query properties value\n",
    "print(\"-- Query properties value --------------------\")\n",
    "ag.queryCypher(\"MATCH (n:Person {name: 'Andy'}) RETURN n.title\")\n",
    "for row in ag.rows():\n",
    "    print(row)\n",
    "    \n",
    "print(\"-- Query path count --------\")\n",
    "ag.queryCypher(\"MATCH p=(:Person {name: 'Andy'})-[:workWith]-() RETURN count(p)\")\n",
    "graph = ag.graph()\n",
    "for path in graph:\n",
    "    print(path)"
   ]
  },
  {
   "cell_type": "markdown",
   "id": "37c5f742-527a-4a1d-a3a8-5a38b7ae3731",
   "metadata": {},
   "source": [
    "## Query SQL"
   ]
  },
  {
   "cell_type": "code",
   "execution_count": 5,
   "id": "3cf56144-820d-4e96-8f8c-abcdf4facc02",
   "metadata": {},
   "outputs": [
    {
     "name": "stdout",
     "output_type": "stream",
     "text": [
      "-- Query scalar value --------------------\n",
      "(1, 'Joe', 'US')\n",
      "(2, 'Jack', 'France')\n",
      "(3, 'Smith', 'Mexico')\n",
      "(4, 'Andy', 'Italy')\n"
     ]
    }
   ],
   "source": [
    "print(\"-- Query scalar value --------------------\")\n",
    "sql = \"\"\"\n",
    "CREATE TABLE IF NOT EXISTS infos (\n",
    "    user_id serial PRIMARY KEY,\n",
    "    username VARCHAR ( 50 ) UNIQUE NOT NULL,\n",
    "    country VARCHAR ( 50 ) NOT NULL\n",
    ");\n",
    "\"\"\"\n",
    "ag.execSql(sql)\n",
    "ag.execSql(\"INSERT INTO infos(username,country) VALUES ('Joe','US');\")\n",
    "ag.execSql(\"INSERT INTO infos(username,country) VALUES ('Jack','France');\")\n",
    "ag.execSql(\"INSERT INTO infos(username,country) VALUES ('Smith','Mexico');\")\n",
    "ag.execSql(\"INSERT INTO infos(username,country) VALUES ('Andy','Italy');\")\n",
    "ag.commit()\n",
    "\n",
    "ag.querySql(\"SELECT * FROM infos\")\n",
    "for row in ag.cursor:\n",
    "    print(row)\n",
    "\n",
    "# Not supported \n",
    "# ag.querySql(\"SELECT * FROM infos, cypher(%% MATCH (n:Person) RETURN n %%) as (n agtype) WHERE infos.username=n.name \")\n",
    "# for row in ag.cursor:\n",
    "#     print(row)"
   ]
  },
  {
   "cell_type": "markdown",
   "id": "8ce0a003-b038-4334-9de8-111569549040",
   "metadata": {},
   "source": [
    "## Close connection"
   ]
  },
  {
   "cell_type": "code",
   "execution_count": 6,
   "id": "e15b0654-66d2-4da4-af66-6f776e6729ac",
   "metadata": {},
   "outputs": [],
   "source": [
    "# Clear test data\n",
    "ag.execCypher(\"MATCH (n:Person) DETACH DELETE n RETURN *\")\n",
    "ag.execSql(\"DROP TABLE infos\")\n",
    "ag.commit()\n",
    "\n",
    "ag.close()"
   ]
  },
  {
   "cell_type": "code",
   "execution_count": null,
   "id": "40e4d7a4-4009-4c42-892c-93cde00762d2",
   "metadata": {},
   "outputs": [],
   "source": []
  }
 ],
 "metadata": {
  "kernelspec": {
   "display_name": "Python 3",
   "language": "python",
   "name": "python3"
  },
  "language_info": {
   "codemirror_mode": {
    "name": "ipython",
    "version": 3
   },
   "file_extension": ".py",
   "mimetype": "text/x-python",
   "name": "python",
   "nbconvert_exporter": "python",
   "pygments_lexer": "ipython3",
   "version": "3.9.2"
  }
 },
 "nbformat": 4,
 "nbformat_minor": 5
}
