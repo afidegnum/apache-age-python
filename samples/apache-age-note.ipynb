{
 "cells": [
  {
   "cell_type": "markdown",
   "id": "722ec93e-b87c-43d0-9c54-61b30933d892",
   "metadata": {},
   "source": [
    "# Basic Samples : apache_age_py\n",
    "\n",
    "## Prepare\n",
    "```\n",
    "import age\n",
    "```\n",
    "## Connect to PostgreSQL(with AGE extention)\n",
    "```\n",
    "ag = age.connect(graph=\"(graph name}\", host=\"{host}\", port=\"{port}\", dbname=\"{dbname}\", user=\"{db username}\", password=\"{password}\")\n",
    "\n",
    "or \n",
    "\n",
    "ag = age.connect(host=\"{host}\", port=\"{port}\", dbname=\"{dbname}\", user=\"{db username}\", password=\"{password}\")\n",
    "# If you created a graphPath already.\n",
    "ag = age.setGraph(\"{graph name}\")\n",
    "```"
   ]
  },
  {
   "cell_type": "code",
   "execution_count": null,
   "id": "34eaaafe-d9dc-442f-8248-0824c46c7b20",
   "metadata": {
    "tags": []
   },
   "outputs": [],
   "source": [
    "import age\n",
    "from age.gen.ageParser import *\n",
    "\n",
    "ag = age.connect(graph=\"my_graph2\", host=\"172.17.0.3\", port=\"5432\", dbname=\"postgres\", user=\"postgres\", password=\"agens\")\n"
   ]
  },
  {
   "cell_type": "markdown",
   "id": "0f15bc37-4b19-4204-af93-757b07e7e9f9",
   "metadata": {},
   "source": [
    "## Create & Query Vertices\n",
    "\n",
    "### Create Vertices\n",
    "```\n",
    "ag.execCypher(\"CREATE(...)\") # Cypher Create Statement\n",
    "...\n",
    "ag.commit() # commit\n",
    "```\n",
    "\n",
    "### Query Vertices (with result parsed full Graph object)\n",
    "```\n",
    "ag.queryCypher(\"MATCH (n) RETURN n\") # Cypher Query\n",
    "graph = ag.graph()\n",
    "for vertex in graph:\n",
    "    print(vertex.label, vertex.properties[\"name\"], vertex) # row has id, label, properties \n",
    "```\n",
    "\n",
    "### Query Vertices (with parsed row cursor.)\n",
    "```\n",
    "ag.queryCypher(\"MATCH (n) RETURN n\")\n",
    "for vertex in ag.rows():\n",
    "    print(vertex.id, vertex.properties[\"name\"], vertex) # row has id, label, properties \n",
    "```"
   ]
  },
  {
   "cell_type": "code",
   "execution_count": null,
   "id": "99cbc91e-55ae-4d2e-b81e-a655f88ec807",
   "metadata": {},
   "outputs": [],
   "source": [
    "# Create Vertices\n",
    "ag.execCypher(\"CREATE (n:Person {name: 'Joe'})\")\n",
    "ag.execCypher(\"CREATE (n:Person {name: 'Smith'})\")\n",
    "ag.execCypher(\"CREATE (n:Person {name: %s})\", ('Jack',))\n",
    "ag.execCypher(\"CREATE (n:Person {name: 'Andy', title: 'Developer'})\")\n",
    "ag.execCypher(\"CREATE (n:Person {name: %s, title: %s})\", ('Tom','Developer',))\n",
    "ag.commit()\n",
    "\n",
    "# Query Vertices with result parsed full graph.\n",
    "print(\"-- Query Vertices in full parsed Graph --------------------\")\n",
    "ag.queryCypher(\"MATCH (n) RETURN n\")\n",
    "graph = ag.graph()\n",
    "for vertex in graph:\n",
    "    print(vertex.label, vertex.properties[\"name\"], vertex)\n",
    "\n",
    "# Query Vertices with parsed row cursor.\n",
    "print(\"-- Query Vertices with ag.rows(). --------------------\")\n",
    "ag.queryCypher(\"MATCH (n) RETURN n\")\n",
    "for row in ag.rows():\n",
    "    print(vertex)\n",
    "    print(vertex.id, vertex.properties[\"name\"])\n",
    "    print(vertex.toJson())\n"
   ]
  },
  {
   "cell_type": "markdown",
   "id": "0a8606b5-8583-49f9-aa39-a1ac3e90d542",
   "metadata": {},
   "source": [
    "## Create Relation & Query Path\n",
    "\n",
    "### Create Relations\n",
    "```\n",
    "ag.execCypher(\"MATCH (a:Person), (b:Person) WHERE  a.name = 'Andy' AND b.name = 'Tom' CREATE (a)-[r:workWith]->(b)\")\n",
    "...\n",
    "ag.commit() # commit\n",
    "```\n",
    "\n",
    "### Query Relations (with result parsed full Graph object)\n",
    "```\n",
    "ag.queryCypher(\"MATCH p=()-[:workWith]-() RETURN p\") # Cypher Query\n",
    "graph = ag.graph()\n",
    "for path in graph:\n",
    "    print(path)  \n",
    "```\n",
    "\n",
    "### Query Relations (with parsed row cursor.)\n",
    "```\n",
    "ag.queryCypher(\"MATCH MATCH p=()-[:workWith]-() RETURN p\")\n",
    "for path in ag.rows():\n",
    "    print(path)  \n",
    "```"
   ]
  },
  {
   "cell_type": "code",
   "execution_count": null,
   "id": "0f904526-59d7-4025-9878-15e458bc5b56",
   "metadata": {},
   "outputs": [],
   "source": [
    "\n",
    "# Create Edges\n",
    "ag.execCypher(\"MATCH (a:Person), (b:Person) WHERE a.name = 'Joe' AND b.name = 'Smith' CREATE (a)-[r:workWith]->(b)\")\n",
    "ag.execCypher(\"MATCH (a:Person), (b:Person) WHERE  a.name = 'Andy' AND b.name = 'Tom' CREATE (a)-[r:workWith]->(b)\")\n",
    "ag.commit()\n",
    "\n",
    "print(\"-- [Query path] --------\")\n",
    "ag.queryCypher(\"MATCH p=()-[:workWith]-() RETURN p\")\n",
    "graph = ag.graph()\n",
    "for path in graph:\n",
    "    print(path)"
   ]
  },
  {
   "cell_type": "markdown",
   "id": "8ce0a003-b038-4334-9de8-111569549040",
   "metadata": {},
   "source": [
    "## Close connection"
   ]
  },
  {
   "cell_type": "code",
   "execution_count": null,
   "id": "e15b0654-66d2-4da4-af66-6f776e6729ac",
   "metadata": {},
   "outputs": [],
   "source": [
    "# Clear test data\n",
    "ag.execCypher(\"MATCH (n:Person) DETACH DELETE n RETURN *\")\n",
    "ag.commit()\n",
    "\n",
    "ag.close()"
   ]
  }
 ],
 "metadata": {
  "kernelspec": {
   "display_name": "Python 3",
   "language": "python",
   "name": "python3"
  },
  "language_info": {
   "codemirror_mode": {
    "name": "ipython",
    "version": 3
   },
   "file_extension": ".py",
   "mimetype": "text/x-python",
   "name": "python",
   "nbconvert_exporter": "python",
   "pygments_lexer": "ipython3",
   "version": "3.9.2"
  }
 },
 "nbformat": 4,
 "nbformat_minor": 5
}
