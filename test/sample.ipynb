{
 "cells": [
  {
   "cell_type": "code",
   "execution_count": 8,
   "id": "613d7573-e0cc-443f-a422-11cb6f662c18",
   "metadata": {},
   "outputs": [
    {
     "name": "stdout",
     "output_type": "stream",
     "text": [
      "Value [16]\n",
      "(ageout (value \"abc\"))\n",
      "Value [16]\n",
      "(ageout (value 123))\n",
      "Value [16]\n",
      "Properties [39 16]\n",
      "Value [63 47 39 16]\n",
      "Value [63 49 39 16]\n",
      "(ageout (value (properties { (pair \"name\" : (value \"AB\")) , (pair \"part_num\" : (value \"123\")) })))\n",
      "vertex [17]\n",
      "Properties [22 17]\n",
      "Value [63 47 22 17]\n",
      "Value [63 49 22 17]\n",
      "Value [63 49 22 17]\n",
      "Properties [39 63 49 22 17]\n",
      "Value [63 47 39 63 49 22 17]\n",
      "Value [63 49 39 63 49 22 17]\n",
      "(ageout (vertex (properties { (pair \"id\" : (value 844424930131977)) , (pair \"label\" : (value \"Part\")) , (pair \"properties\" : (value (properties { (pair \"name\" : (value \"AB\")) , (pair \"part_num\" : (value \"123\")) }))) }) ::vertex))\n"
     ]
    }
   ],
   "source": [
    "import os\n",
    "import sys\n",
    "module_path = os.path.abspath(os.path.join('..'))\n",
    "if module_path not in sys.path:\n",
    "    sys.path.append(module_path)\n",
    "\n",
    "from antlr4 import *\n",
    "from age.gen.ageLexer import ageLexer\n",
    "from age.gen.ageParser import ageParser\n",
    "from age.gen.ageListener import ageListener\n",
    "\n",
    "class KeyPrinter(ageListener):     \n",
    "    def enterVertex(self, ctx:ageParser.VertexContext):\n",
    "        print(\"vertex\", ctx) \n",
    "    def enterProperties(self, ctx:ageParser.PropertiesContext):\n",
    "        print(\"Properties\", ctx) \n",
    "    def enterValue(self, ctx:ageParser.ValueContext):\n",
    "        print(\"Value\", ctx) \n",
    "        \n",
    "def parse(inut):\n",
    "    input_stream = InputStream(inut)\n",
    "    lexer = ageLexer(input_stream)\n",
    "    stream = CommonTokenStream(lexer)\n",
    "    parser = ageParser(stream)\n",
    "    tree = parser.ageout()\n",
    "    printer = KeyPrinter()\n",
    "    walker = ParseTreeWalker()\n",
    "    walker.walk(printer, tree)\n",
    "    \n",
    "    print(tree.toStringTree(recog=parser))\n",
    "    \n",
    "# sample_string1 = 'abc'\n",
    "# parse(sample_string1)\n",
    "\n",
    "sample_string2 = '\"abc\"'\n",
    "parse(sample_string2)\n",
    "\n",
    "sample_num = '123'\n",
    "parse(sample_num)\n",
    "\n",
    "sample_properties = '{\"name\": \"AB\", \"part_num\": \"123\"}'\n",
    "parse(sample_properties)\n",
    "\n",
    "sample_vertex = \"\"\"{\"id\": 844424930131977, \"label\": \"Part\", \"properties\": {\"name\": \"AB\", \"part_num\": \"123\"}}::vertex\"\"\"\n",
    "parse(sample_vertex)\n",
    "\n",
    "sample_path = \"\"\"[{\"id\": 844424930131972, \"label\": \"Part\", \"properties\": {\"part_num\": \"789\"}}::vertex, \n",
    "{id\": 1407374883553281, \"label\": \"has\", \"end_id\": 844424930131972, \"start_id\": 844424930131971, \"properties\": {\"quantity\": 1}}::edge, \n",
    "{\"id\": 844424930131971, \"label\": \"Part\", \"properties\": {\"part_num\": \"456\"}}::vertex]::path\"\"\"\n",
    "# parse(sample_path)\n"
   ]
  },
  {
   "cell_type": "code",
   "execution_count": null,
   "id": "9c51c251-54cb-458c-9805-218f71ddb331",
   "metadata": {},
   "outputs": [],
   "source": []
  }
 ],
 "metadata": {
  "kernelspec": {
   "display_name": "Python 3",
   "language": "python",
   "name": "python3"
  },
  "language_info": {
   "codemirror_mode": {
    "name": "ipython",
    "version": 3
   },
   "file_extension": ".py",
   "mimetype": "text/x-python",
   "name": "python",
   "nbconvert_exporter": "python",
   "pygments_lexer": "ipython3",
   "version": "3.9.2"
  }
 },
 "nbformat": 4,
 "nbformat_minor": 5
}
